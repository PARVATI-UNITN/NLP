{
 "cells": [
  {
   "cell_type": "markdown",
   "id": "5f1050da",
   "metadata": {},
   "source": [
    "import pyttsx3\n",
    "speech = pyttsx3.init('sapi5') # Explicitly initialize with the SAPI5 engine\n",
    "speech.say(\"This is a test.\")\n",
    "speech.runAndWait()\n",
    "#voice wasnt heard so used: API 5 stands for Speech Application Programming Interface version 5. It is a technology developed by Microsoft that allows Windows applications to use speech recognition and speech synthesis (text-to-speech)\n",
    "\n",
    "\n",
    "#The init() function, in the context of the pyttsx3 library, is a special function that is crucial for setting up and starting the text-to-speech engine.\n",
    "\n",
    "Here's a detailed explanation of its role:\n",
    "\n",
    "1. What init() Does:\n",
    "The init() function serves as the constructor or initializer for the text-to-speech engine. Its primary job is to:\n",
    "Select a Driver: It tries to detect and load a working text-to-speech driver on your operating system.\n",
    "\n",
    "On Windows, it will try to use SAPI5.\n",
    "\n",
    "On macOS, it will try to use NSSpeechSynthesizer.\n",
    "\n",
    "On Linux, it will try to use eSpeak."
   ]
  },
  {
   "cell_type": "code",
   "execution_count": 20,
   "id": "33cfedf4",
   "metadata": {},
   "outputs": [],
   "source": [
    "import pyttsx3\n",
    "speech = pyttsx3.init()\n",
    "text=input(\"ENTER THE TEXT \")\n",
    "speech.say(text)\n",
    "speech.runAndWait()"
   ]
  }
 ],
 "metadata": {
  "kernelspec": {
   "display_name": "Python 3",
   "language": "python",
   "name": "python3"
  },
  "language_info": {
   "codemirror_mode": {
    "name": "ipython",
    "version": 3
   },
   "file_extension": ".py",
   "mimetype": "text/x-python",
   "name": "python",
   "nbconvert_exporter": "python",
   "pygments_lexer": "ipython3",
   "version": "3.12.3"
  }
 },
 "nbformat": 4,
 "nbformat_minor": 5
}
